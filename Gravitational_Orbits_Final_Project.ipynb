{
 "cells": [
  {
   "cell_type": "markdown",
   "metadata": {},
   "source": [
    "# Gravitational Orbits Final Project"
   ]
  },
  {
   "cell_type": "code",
   "execution_count": 1,
   "metadata": {},
   "outputs": [],
   "source": [
    "import numpy as np\n",
    "import matplotlib.pyplot as plt\n",
    "from scipy.integrate import solve_ivp"
   ]
  },
  {
   "cell_type": "code",
   "execution_count": 2,
   "metadata": {},
   "outputs": [],
   "source": [
    "# Change the common font size\n",
    "font_size = 14\n",
    "plt.rcParams.update({'font.size': font_size})"
   ]
  },
  {
   "cell_type": "code",
   "execution_count": 3,
   "metadata": {},
   "outputs": [],
   "source": [
    "class Orbit:\n",
    "    \"\"\"\n",
    "    This class uses initial coniditions and Lagrange's equations for two bodies orbiting with gravity\n",
    "    \n",
    "    Parameters\n",
    "    ----------\n",
    "    m_1 : float\n",
    "    m_2 : float\n",
    "    G : float\n",
    "    \n",
    "    Methods\n",
    "    -------\n",
    "    dz_dt(t,z)\n",
    "        Returns the right side of the diff eq in vector z\n",
    "    \"\"\"\n",
    "    \n",
    "    def __init__(self, m_1=1., m_2=1., G=1.):\n",
    "        self.m_1 = m_1\n",
    "        self.m_2 = m_2\n",
    "        self.G = G\n",
    "        \n",
    "    def dz_dt(self, t, z):\n",
    "        \"\"\"\n",
    "        This function returns the right-hand side of the diffeq: \n",
    "        [dz/dt d^2z/dt^2]\n",
    "        \n",
    "        Parameters\n",
    "        ----------\n",
    "        t : float\n",
    "            time \n",
    "        z : float\n",
    "            8-component vector with y[0] = x_1(t) & y[1] = x_dot_1(t) \n",
    "                                    y[2] = y_1(t) & y[3] = y_dot_1(t)\n",
    "                                    y[4] = x_2(t) & y[5] = x_dot_2(t)\n",
    "                                    y[6] = y_2(t) & y[7] = y_dot_2(t)\n",
    "        \n",
    "        Returns\n",
    "        -------\n",
    "        \"\"\"\n",
    "        r_12 = np.sqrt((z[0] - z[4])**2 + (z[2] - z[6])**2)\n",
    "        \n",
    "        return [z[1], self.G * self.m_2 * (z[4] - z[0]) / r_12**3, \\\n",
    "                z[3], self.G * self.m_2 * (z[6] - z[2]) / r_12**3, \\\n",
    "                z[5], -self.G * self.m_1 * (z[4] - z[0]) / r_12**3, \\\n",
    "                z[7], -self.G * self.m_1 * (z[6] - z[2]) / r_12**3, \\\n",
    "               ]\n",
    "    \n",
    "    def solve_ode(self, t_pts, z_0, abserr=1.0e-8, relerr=1.0e-8):\n",
    "        \n",
    "        \"\"\"\n",
    "        Solve the ODE given initial conditions.\n",
    "        For now use odeint, but we have the option to switch.\n",
    "        Specify smaller abserr and relerr to get more precision.\n",
    "        \"\"\"  \n",
    "        solution = solve_ivp(self.dz_dt, (t_pts[0], t_pts[-1]), \n",
    "                             z_0, t_eval=t_pts, method='RK23', \n",
    "                             atol=abserr, rtol=relerr)\n",
    "        x_1, x_dot_1, y_1, y_dot_1, x_2, x_dot_2, y_2, y_dot_2 = solution.y\n",
    "                \n",
    "        return x_1, x_dot_1, y_1, y_dot_1, x_2, x_dot_2, y_2, y_dot_2\n",
    "    \n",
    "#     def solve_ode_Leapfrog(self, t_pts, z_0):\n",
    "#         \"\"\"Solve ode with leapfrog method\"\"\"\n",
    "#         delta_t = t_pts[1] - t_pts[0]\n",
    "        \n",
    "#         x_1_0, d_dot_1_0, y_1_0, y_dot_1_0, \\\n",
    "#                 x_2_0, x_dot_2_0, y_2_0, y_dot_2_0 = z_0\n",
    "                \n",
    "        \n",
    "#         return (self.mu/2.) * r_dot**2 + self.Ueff(r)"
   ]
  },
  {
   "cell_type": "code",
   "execution_count": 4,
   "metadata": {},
   "outputs": [],
   "source": [
    "def plot_y_vs_x(x, y, axis_labels=None, label=None, title=None, \n",
    "                color=None, linestyle=None, semilogy=False, loglog=False,\n",
    "                ax=None):\n",
    "    \"\"\"\n",
    "    Generic plotting function: return a figure axis with a plot of y vs. x,\n",
    "    with line color and style, title, axis labels, and line label\n",
    "    \"\"\"\n",
    "    if ax is None:        # if the axis object doesn't exist, make one\n",
    "        ax = plt.gca()\n",
    "\n",
    "    if (semilogy):\n",
    "        line, = ax.semilogy(x, y, label=label, \n",
    "                            color=color, linestyle=linestyle)\n",
    "    elif (loglog):\n",
    "        line, = ax.loglog(x, y, label=label, \n",
    "                          color=color, linestyle=linestyle)\n",
    "    else:\n",
    "        line, = ax.plot(x, y, label=label, \n",
    "                    color=color, linestyle=linestyle)\n",
    "\n",
    "    if label is not None:    # if a label if passed, show the legend\n",
    "        ax.legend()\n",
    "    if title is not None:    # set a title if one if passed\n",
    "        ax.set_title(title)\n",
    "    if axis_labels is not None:  # set x-axis and y-axis labels if passed  \n",
    "        ax.set_xlabel(axis_labels[0])\n",
    "        ax.set_ylabel(axis_labels[1])\n",
    "\n",
    "    return ax, line"
   ]
  },
  {
   "cell_type": "code",
   "execution_count": 5,
   "metadata": {},
   "outputs": [],
   "source": [
    "def start_stop_indices(t_pts, plot_start, plot_stop):\n",
    "    start_index = (np.fabs(t_pts-plot_start)).argmin()  # index in t_pts array \n",
    "    stop_index = (np.fabs(t_pts-plot_stop)).argmin()  # index in t_pts array \n",
    "    return start_index, stop_index"
   ]
  },
  {
   "cell_type": "markdown",
   "metadata": {},
   "source": [
    "# Orbit plots"
   ]
  },
  {
   "cell_type": "code",
   "execution_count": 6,
   "metadata": {},
   "outputs": [
    {
     "data": {
      "image/png": "[encoded data removed]",
      "text/plain": [
       "<Figure size 500x500 with 1 Axes>"
      ]
     },
     "metadata": {},
     "output_type": "display_data"
    }
   ],
   "source": [
    "# Plotting time \n",
    "t_start = 0.\n",
    "t_end = 10.\n",
    "delta_t = 0.01\n",
    "\n",
    "t_pts = np.arange(t_start, t_end+delta_t, delta_t) \n",
    "\n",
    "G = 1.\n",
    "m_1 = 1.\n",
    "m_2 = 5.\n",
    "\n",
    "#instantiate orbits\n",
    "o1 = Orbit(m_1, m_2, G)\n",
    "\n",
    "#initial conditions\n",
    "# x_1_0, x_dot_1_0, y_1_0, y_dot_1_0, x_2_0, x_dot_2_0, y_2_0, y_dot_2_0\n",
    "x_1_0, x_dot_1_0 = 1., -1.\n",
    "y_1_0, y_dot_1_0 = 1., 1.\n",
    "x_2_0, x_dot_2_0 = -(m_1 / m_2) * x_1_0, -(m_1 / m_2) * x_dot_1_0\n",
    "y_2_0, y_dot_2_0 = -(m_1 / m_2) * y_1_0, -(m_1 / m_2) * y_dot_1_0\n",
    "\n",
    "z_0 = [x_1_0, x_dot_1_0, y_1_0, y_dot_1_0, x_2_0, x_dot_2_0, y_2_0, y_dot_2_0]\n",
    "x_1, x_dot_1, y_1, y_dot_1, x_2, x_dot_2, y_2, y_dot_2 = o1.solve_ode(t_pts, z_0)\n",
    "\n",
    "fig = plt.figure(figsize=(5,5))\n",
    "ax = fig.add_subplot(1,1,1)\n",
    "ax.plot(x_1, y_1, color='blue', label=r'$m_1$')\n",
    "ax.plot(x_2, y_2, color='red', label=r'$m_2$')\n",
    "ax.set_title('Simple Gravitational Orbit')\n",
    "ax.set_xlim(-2., 2.)\n",
    "ax.set_ylim(-2., 2.)\n",
    "ax.set_xlabel('x')\n",
    "ax.set_ylabel('y')\n",
    "ax.legend()\n",
    "\n",
    "fig.tight_layout()\n",
    "fig.savefig('Gravational_Orbit_Final.png')"
   ]
  },
  {
   "cell_type": "markdown",
   "metadata": {},
   "source": [
    "## Orbit (time dependence)"
   ]
  },
  {
   "cell_type": "markdown",
   "metadata": {},
   "source": [
    "We'll directly solve the equations for r(t) and phi(t)."
   ]
  },
  {
   "cell_type": "code",
   "execution_count": 7,
   "metadata": {},
   "outputs": [
    {
     "ename": "ValueError",
     "evalue": "`y0` must be 1-dimensional.",
     "output_type": "error",
     "traceback": [
      "\u001b[1;31m---------------------------------------------------------------------------\u001b[0m",
      "\u001b[1;31mValueError\u001b[0m                                Traceback (most recent call last)",
      "\u001b[1;32m~\\AppData\\Local\\Temp\\ipykernel_11804\\769282066.py\u001b[0m in \u001b[0;36m<module>\u001b[1;34m\u001b[0m\n\u001b[0;32m     10\u001b[0m \u001b[0mr_dot_0\u001b[0m \u001b[1;33m=\u001b[0m \u001b[1;36m0.\u001b[0m\u001b[1;33m\u001b[0m\u001b[1;33m\u001b[0m\u001b[0m\n\u001b[0;32m     11\u001b[0m \u001b[0mphi_0\u001b[0m \u001b[1;33m=\u001b[0m \u001b[1;36m0.0\u001b[0m\u001b[1;33m\u001b[0m\u001b[1;33m\u001b[0m\u001b[0m\n\u001b[1;32m---> 12\u001b[1;33m \u001b[0mr_pts\u001b[0m\u001b[1;33m,\u001b[0m \u001b[0mr_dot_pts\u001b[0m\u001b[1;33m,\u001b[0m \u001b[0mphi_pts\u001b[0m \u001b[1;33m=\u001b[0m \u001b[0mo1\u001b[0m\u001b[1;33m.\u001b[0m\u001b[0msolve_ode\u001b[0m\u001b[1;33m(\u001b[0m\u001b[0mt_pts\u001b[0m\u001b[1;33m,\u001b[0m \u001b[0mr_0\u001b[0m\u001b[1;33m,\u001b[0m \u001b[0mr_dot_0\u001b[0m\u001b[1;33m,\u001b[0m \u001b[0mphi_0\u001b[0m\u001b[1;33m)\u001b[0m\u001b[1;33m\u001b[0m\u001b[1;33m\u001b[0m\u001b[0m\n\u001b[0m\u001b[0;32m     13\u001b[0m \u001b[1;33m\u001b[0m\u001b[0m\n\u001b[0;32m     14\u001b[0m \u001b[0mc\u001b[0m \u001b[1;33m=\u001b[0m \u001b[0mo1\u001b[0m\u001b[1;33m.\u001b[0m\u001b[0mang_mom\u001b[0m\u001b[1;33m**\u001b[0m\u001b[1;36m2\u001b[0m \u001b[1;33m/\u001b[0m \u001b[1;33m(\u001b[0m\u001b[0mnp\u001b[0m\u001b[1;33m.\u001b[0m\u001b[0mabs\u001b[0m\u001b[1;33m(\u001b[0m\u001b[0mo1\u001b[0m\u001b[1;33m.\u001b[0m\u001b[0mk\u001b[0m\u001b[1;33m)\u001b[0m \u001b[1;33m*\u001b[0m \u001b[0mo1\u001b[0m\u001b[1;33m.\u001b[0m\u001b[0mmu\u001b[0m\u001b[1;33m)\u001b[0m\u001b[1;33m\u001b[0m\u001b[1;33m\u001b[0m\u001b[0m\n",
      "\u001b[1;32m~\\AppData\\Local\\Temp\\ipykernel_11804\\3281638833.py\u001b[0m in \u001b[0;36msolve_ode\u001b[1;34m(self, t_pts, z_0, abserr, relerr)\u001b[0m\n\u001b[0;32m     53\u001b[0m         \u001b[0mSpecify\u001b[0m \u001b[0msmaller\u001b[0m \u001b[0mabserr\u001b[0m \u001b[1;32mand\u001b[0m \u001b[0mrelerr\u001b[0m \u001b[0mto\u001b[0m \u001b[0mget\u001b[0m \u001b[0mmore\u001b[0m \u001b[0mprecision\u001b[0m\u001b[1;33m.\u001b[0m\u001b[1;33m\u001b[0m\u001b[1;33m\u001b[0m\u001b[0m\n\u001b[0;32m     54\u001b[0m         \"\"\"  \n\u001b[1;32m---> 55\u001b[1;33m         solution = solve_ivp(self.dz_dt, (t_pts[0], t_pts[-1]), \n\u001b[0m\u001b[0;32m     56\u001b[0m                              \u001b[0mz_0\u001b[0m\u001b[1;33m,\u001b[0m \u001b[0mt_eval\u001b[0m\u001b[1;33m=\u001b[0m\u001b[0mt_pts\u001b[0m\u001b[1;33m,\u001b[0m \u001b[0mmethod\u001b[0m\u001b[1;33m=\u001b[0m\u001b[1;34m'RK23'\u001b[0m\u001b[1;33m,\u001b[0m\u001b[1;33m\u001b[0m\u001b[1;33m\u001b[0m\u001b[0m\n\u001b[0;32m     57\u001b[0m                              atol=abserr, rtol=relerr)\n",
      "\u001b[1;32m~\\anaconda3\\lib\\site-packages\\scipy\\integrate\\_ivp\\ivp.py\u001b[0m in \u001b[0;36msolve_ivp\u001b[1;34m(fun, t_span, y0, method, t_eval, dense_output, events, vectorized, args, **options)\u001b[0m\n\u001b[0;32m    553\u001b[0m         \u001b[0mmethod\u001b[0m \u001b[1;33m=\u001b[0m \u001b[0mMETHODS\u001b[0m\u001b[1;33m[\u001b[0m\u001b[0mmethod\u001b[0m\u001b[1;33m]\u001b[0m\u001b[1;33m\u001b[0m\u001b[1;33m\u001b[0m\u001b[0m\n\u001b[0;32m    554\u001b[0m \u001b[1;33m\u001b[0m\u001b[0m\n\u001b[1;32m--> 555\u001b[1;33m     \u001b[0msolver\u001b[0m \u001b[1;33m=\u001b[0m \u001b[0mmethod\u001b[0m\u001b[1;33m(\u001b[0m\u001b[0mfun\u001b[0m\u001b[1;33m,\u001b[0m \u001b[0mt0\u001b[0m\u001b[1;33m,\u001b[0m \u001b[0my0\u001b[0m\u001b[1;33m,\u001b[0m \u001b[0mtf\u001b[0m\u001b[1;33m,\u001b[0m \u001b[0mvectorized\u001b[0m\u001b[1;33m=\u001b[0m\u001b[0mvectorized\u001b[0m\u001b[1;33m,\u001b[0m \u001b[1;33m**\u001b[0m\u001b[0moptions\u001b[0m\u001b[1;33m)\u001b[0m\u001b[1;33m\u001b[0m\u001b[1;33m\u001b[0m\u001b[0m\n\u001b[0m\u001b[0;32m    556\u001b[0m \u001b[1;33m\u001b[0m\u001b[0m\n\u001b[0;32m    557\u001b[0m     \u001b[1;32mif\u001b[0m \u001b[0mt_eval\u001b[0m \u001b[1;32mis\u001b[0m \u001b[1;32mNone\u001b[0m\u001b[1;33m:\u001b[0m\u001b[1;33m\u001b[0m\u001b[1;33m\u001b[0m\u001b[0m\n",
      "\u001b[1;32m~\\anaconda3\\lib\\site-packages\\scipy\\integrate\\_ivp\\rk.py\u001b[0m in \u001b[0;36m__init__\u001b[1;34m(self, fun, t0, y0, t_bound, max_step, rtol, atol, vectorized, first_step, **extraneous)\u001b[0m\n\u001b[0;32m     87\u001b[0m                  first_step=None, **extraneous):\n\u001b[0;32m     88\u001b[0m         \u001b[0mwarn_extraneous\u001b[0m\u001b[1;33m(\u001b[0m\u001b[0mextraneous\u001b[0m\u001b[1;33m)\u001b[0m\u001b[1;33m\u001b[0m\u001b[1;33m\u001b[0m\u001b[0m\n\u001b[1;32m---> 89\u001b[1;33m         super().__init__(fun, t0, y0, t_bound, vectorized,\n\u001b[0m\u001b[0;32m     90\u001b[0m                          support_complex=True)\n\u001b[0;32m     91\u001b[0m         \u001b[0mself\u001b[0m\u001b[1;33m.\u001b[0m\u001b[0my_old\u001b[0m \u001b[1;33m=\u001b[0m \u001b[1;32mNone\u001b[0m\u001b[1;33m\u001b[0m\u001b[1;33m\u001b[0m\u001b[0m\n",
      "\u001b[1;32m~\\anaconda3\\lib\\site-packages\\scipy\\integrate\\_ivp\\base.py\u001b[0m in \u001b[0;36m__init__\u001b[1;34m(self, fun, t0, y0, t_bound, vectorized, support_complex)\u001b[0m\n\u001b[0;32m    117\u001b[0m         \u001b[0mself\u001b[0m\u001b[1;33m.\u001b[0m\u001b[0mt_old\u001b[0m \u001b[1;33m=\u001b[0m \u001b[1;32mNone\u001b[0m\u001b[1;33m\u001b[0m\u001b[1;33m\u001b[0m\u001b[0m\n\u001b[0;32m    118\u001b[0m         \u001b[0mself\u001b[0m\u001b[1;33m.\u001b[0m\u001b[0mt\u001b[0m \u001b[1;33m=\u001b[0m \u001b[0mt0\u001b[0m\u001b[1;33m\u001b[0m\u001b[1;33m\u001b[0m\u001b[0m\n\u001b[1;32m--> 119\u001b[1;33m         \u001b[0mself\u001b[0m\u001b[1;33m.\u001b[0m\u001b[0m_fun\u001b[0m\u001b[1;33m,\u001b[0m \u001b[0mself\u001b[0m\u001b[1;33m.\u001b[0m\u001b[0my\u001b[0m \u001b[1;33m=\u001b[0m \u001b[0mcheck_arguments\u001b[0m\u001b[1;33m(\u001b[0m\u001b[0mfun\u001b[0m\u001b[1;33m,\u001b[0m \u001b[0my0\u001b[0m\u001b[1;33m,\u001b[0m \u001b[0msupport_complex\u001b[0m\u001b[1;33m)\u001b[0m\u001b[1;33m\u001b[0m\u001b[1;33m\u001b[0m\u001b[0m\n\u001b[0m\u001b[0;32m    120\u001b[0m         \u001b[0mself\u001b[0m\u001b[1;33m.\u001b[0m\u001b[0mt_bound\u001b[0m \u001b[1;33m=\u001b[0m \u001b[0mt_bound\u001b[0m\u001b[1;33m\u001b[0m\u001b[1;33m\u001b[0m\u001b[0m\n\u001b[0;32m    121\u001b[0m         \u001b[0mself\u001b[0m\u001b[1;33m.\u001b[0m\u001b[0mvectorized\u001b[0m \u001b[1;33m=\u001b[0m \u001b[0mvectorized\u001b[0m\u001b[1;33m\u001b[0m\u001b[1;33m\u001b[0m\u001b[0m\n",
      "\u001b[1;32m~\\anaconda3\\lib\\site-packages\\scipy\\integrate\\_ivp\\base.py\u001b[0m in \u001b[0;36mcheck_arguments\u001b[1;34m(fun, y0, support_complex)\u001b[0m\n\u001b[0;32m     15\u001b[0m \u001b[1;33m\u001b[0m\u001b[0m\n\u001b[0;32m     16\u001b[0m     \u001b[1;32mif\u001b[0m \u001b[0my0\u001b[0m\u001b[1;33m.\u001b[0m\u001b[0mndim\u001b[0m \u001b[1;33m!=\u001b[0m \u001b[1;36m1\u001b[0m\u001b[1;33m:\u001b[0m\u001b[1;33m\u001b[0m\u001b[1;33m\u001b[0m\u001b[0m\n\u001b[1;32m---> 17\u001b[1;33m         \u001b[1;32mraise\u001b[0m \u001b[0mValueError\u001b[0m\u001b[1;33m(\u001b[0m\u001b[1;34m\"`y0` must be 1-dimensional.\"\u001b[0m\u001b[1;33m)\u001b[0m\u001b[1;33m\u001b[0m\u001b[1;33m\u001b[0m\u001b[0m\n\u001b[0m\u001b[0;32m     18\u001b[0m \u001b[1;33m\u001b[0m\u001b[0m\n\u001b[0;32m     19\u001b[0m     \u001b[1;32mdef\u001b[0m \u001b[0mfun_wrapped\u001b[0m\u001b[1;33m(\u001b[0m\u001b[0mt\u001b[0m\u001b[1;33m,\u001b[0m \u001b[0my\u001b[0m\u001b[1;33m)\u001b[0m\u001b[1;33m:\u001b[0m\u001b[1;33m\u001b[0m\u001b[1;33m\u001b[0m\u001b[0m\n",
      "\u001b[1;31mValueError\u001b[0m: `y0` must be 1-dimensional."
     ]
    }
   ],
   "source": [
    "# Plotting time \n",
    "t_start = 0.\n",
    "t_end = 10.\n",
    "delta_t = 0.01\n",
    "\n",
    "t_pts = np.arange(t_start, t_end+delta_t, delta_t)  \n",
    "\n",
    "# Initial conditions\n",
    "r_0 = 1.\n",
    "r_dot_0 = 0.\n",
    "phi_0 = 0.0\n",
    "r_pts, r_dot_pts, phi_pts = o1.solve_ode(t_pts, r_0, r_dot_0, phi_0)\n",
    "\n",
    "c = o1.ang_mom**2 / (np.abs(o1.k) * o1.mu)\n",
    "epsilon = c / r_0 - 1.\n",
    "energy_0 = o1.mu/2. * r_dot_0**2 + o1.Ueff(r_0)\n",
    "print(f'energy = {energy_0:.2f}')\n",
    "print(f'eccentricity = {epsilon:.2f}')"
   ]
  },
  {
   "cell_type": "code",
   "execution_count": null,
   "metadata": {},
   "outputs": [],
   "source": [
    "fig_4 = plt.figure(figsize=(8,8))\n",
    "\n",
    "overall_title = 'Gravitational orbit:  ' + \\\n",
    "                rf' $n = {o1.n},$' + \\\n",
    "                rf' $k = {o1.k:.1f},$' + \\\n",
    "                rf' $l = {o1.ang_mom:.1f},$' + \\\n",
    "                rf' $r_0 = {r_0:.1f},$' + \\\n",
    "                rf' $\\dot r_0 = {r_dot_0:.2f},$' + \\\n",
    "                rf' $\\phi_0 = {phi_0:.2f}$' + \\\n",
    "                '\\n'     # \\n means a new line (adds some space here)\n",
    "fig_4.suptitle(overall_title, va='baseline')\n",
    "\n",
    "ax_4a = fig_4.add_subplot(2,2,1)\n",
    "ax_4a.plot(t_pts, r_pts, color='black')\n",
    "ax_4a.set_xlabel(r'$t$')\n",
    "ax_4a.set_ylabel(r'$r$')\n",
    "ax_4a.set_title('Time dependence of radius')\n",
    "\n",
    "ax_4b = fig_4.add_subplot(2,2,2)\n",
    "ax_4b.plot(t_pts, phi_pts/(2.*np.pi), color='black')\n",
    "ax_4b.plot(t_pts, phi_pts/(2.*np.pi)%1, color='red')\n",
    "ax_4b.set_xlabel(r'$t$')\n",
    "ax_4b.set_ylabel(r'$\\phi/2\\pi$')\n",
    "ax_4b.set_title(r'Time dependence of $\\phi$')\n",
    "\n",
    "ax_4c = fig_4.add_subplot(2,2,3)\n",
    "ax_4c.plot(r_pts*np.cos(phi_pts), r_pts*np.sin(phi_pts), color='black')\n",
    "ax_4c.set_xlabel(r'$x$')\n",
    "ax_4c.set_ylabel(r'$y$')\n",
    "ax_4c.set_aspect(1)\n",
    "ax_4c.set_title('Cartesian plot')\n",
    "\n",
    "ax_4d = fig_4.add_subplot(2,2,4, polar=True)\n",
    "ax_4d.plot(phi_pts, r_pts, color='black')\n",
    "ax_4d.set_title('Polar plot', pad=20.)\n",
    "\n",
    "\n",
    "fig_4.tight_layout()\n",
    "\n"
   ]
  },
  {
   "cell_type": "markdown",
   "metadata": {},
   "source": [
    "## Energy versus time"
   ]
  },
  {
   "cell_type": "code",
   "execution_count": null,
   "metadata": {},
   "outputs": [],
   "source": [
    "E_tot_pts = o1.energy(t_pts, r_pts, r_dot_pts)\n",
    "E_tot_0 = E_tot_pts[0]\n",
    "E_tot_rel_pts = np.abs((E_tot_pts - E_tot_0)/E_tot_0)\n",
    "\n",
    "# print(f'    t        E_tot        rel. error')\n",
    "# for t, E_tot, E_tot_rel in zip(t_pts, E_tot_pts, E_tot_rel_pts):\n",
    "#     print(f'{t:8.5f}  {E_tot:8.5e}  {E_tot_rel:12.4e}')"
   ]
  },
  {
   "cell_type": "code",
   "execution_count": null,
   "metadata": {},
   "outputs": [],
   "source": [
    "fig_5 = plt.figure(figsize=(6,6))\n",
    "\n",
    "overall_title = 'Gravitational orbit:  ' + \\\n",
    "                rf' $n = {o1.n},$' + \\\n",
    "                rf' $k = {o1.k:.1f},$' + \\\n",
    "                rf' $l = {o1.ang_mom:.1f},$' + \\\n",
    "                rf' $r_0 = {r_0:.1f},$' + \\\n",
    "                rf' $\\dot r_0 = {r_dot_0:.2f},$' + \\\n",
    "                rf' $\\phi_0 = {phi_0:.2f}$' + \\\n",
    "                '\\n'     # \\n means a new line (adds some space here)\n",
    "fig_5.suptitle(overall_title, va='baseline')\n",
    "\n",
    "ax_5a = fig_5.add_subplot(1,1,1)\n",
    "ax_5a.semilogy(t_pts, np.abs(E_tot_pts), color='black', label=r'$E(t)$')\n",
    "ax_5a.semilogy(t_pts, E_tot_rel_pts, color='red', label=r'$\\Delta E(t)$')\n",
    "ax_5a.set_xlabel(r'$t$')\n",
    "ax_5a.set_ylabel(r'Energy')\n",
    "ax_5a.set_title('Change in energy with time')\n",
    "ax_5a.legend(loc='lower right')\n",
    "\n",
    "fig_5.tight_layout()"
   ]
  },
  {
   "cell_type": "markdown",
   "metadata": {},
   "source": [
    "## Verifying the virial theorem numerically"
   ]
  },
  {
   "cell_type": "markdown",
   "metadata": {},
   "source": [
    "First a quick calculation with the current orbit:"
   ]
  },
  {
   "cell_type": "code",
   "execution_count": null,
   "metadata": {},
   "outputs": [],
   "source": [
    "t_range = t_pts[-1] - t_pts[0]\n",
    "U_pts = o1.U(r_pts)\n",
    "T_pts = o1.energy(t_pts, r_pts, r_dot_pts) - U_pts"
   ]
  },
  {
   "cell_type": "code",
   "execution_count": null,
   "metadata": {},
   "outputs": [],
   "source": [
    "from scipy.integrate import simps"
   ]
  },
  {
   "cell_type": "code",
   "execution_count": null,
   "metadata": {},
   "outputs": [],
   "source": [
    "T_avg = simps(T_pts, t_pts, delta_t) / t_range\n",
    "U_avg = simps(U_pts, t_pts, delta_t) / t_range\n",
    "print(f'<T> = {T_avg:.6f}, <U> = {U_avg:.6f}, n<U>/2 = {o1.n*U_avg/2:.6f}')"
   ]
  },
  {
   "cell_type": "markdown",
   "metadata": {},
   "source": [
    "Now a more complete study with different $n$ values and varying integration times:"
   ]
  },
  {
   "cell_type": "code",
   "execution_count": null,
   "metadata": {
    "scrolled": true
   },
   "outputs": [],
   "source": [
    "from scipy.integrate import simps\n",
    "\n",
    "# For simplicity, set the angular momentum to 1 and k to +2 or -2 with n*k > 0 \n",
    "n_values = (-1, 2, 3, 4, 7)   # different n values to test\n",
    "t_end_values = (10., 100., 1000.)  # integration max values to test\n",
    "k_magnitude = 2.\n",
    "\n",
    "# Time start and spacing\n",
    "t_start = 0.\n",
    "delta_t = 0.001\n",
    "\n",
    "# Initial conditions\n",
    "r_0 = 1.\n",
    "r_dot_0 = 0.\n",
    "phi_0 = 0.0\n",
    "ang_mom = 1.\n",
    "\n",
    "print(f' n    t_end     <T>        <U>        n<U>/2     |<T>-n<U>/2|/<T>')\n",
    "for n in n_values:\n",
    "    k = np.sign(n) * k_magnitude   # ensure that n*k > 0\n",
    "    o_now = Orbit(ang_mom, n=n, k=k, mu=1.)  # current orbit \n",
    "    for t_end in t_end_values:\n",
    "        t_pts = np.arange(t_start, t_end+delta_t, delta_t)  \n",
    "        r_pts, r_dot_pts, phi_pts = o_now.solve_ode(t_pts, r_0, \n",
    "                                                    r_dot_0, phi_0)\n",
    "\n",
    "        t_range = t_pts[-1] - t_pts[0]\n",
    "        # Generate the integrands to be averaged\n",
    "        U_pts = o_now.U(r_pts)\n",
    "        T_pts = o_now.energy(t_pts, r_pts, r_dot_pts) - U_pts\n",
    "        # Calculate the time averages from 0 to t_end\n",
    "        T_avg = simps(T_pts, t_pts, delta_t) / t_range\n",
    "        U_avg = simps(U_pts, t_pts, delta_t) / t_range\n",
    "\n",
    "        rel_error = np.fabs((T_avg - n*U_avg/2.) / T_avg)\n",
    "        print(f'{n:2.0f}   {t_end:5.0f}   {T_avg:9.6f}  {U_avg:9.6f} ',\n",
    "              f' {n*U_avg/2.:9.6f}       {rel_error:9.3e}')"
   ]
  },
  {
   "cell_type": "code",
   "execution_count": null,
   "metadata": {},
   "outputs": [],
   "source": []
  },
  {
   "cell_type": "code",
   "execution_count": null,
   "metadata": {},
   "outputs": [],
   "source": []
  }
 ],
 "metadata": {
  "kernelspec": {
   "display_name": "Python 3 (ipykernel)",
   "language": "python",
   "name": "python3"
  },
  "language_info": {
   "codemirror_mode": {
    "name": "ipython",
    "version": 3
   },
   "file_extension": ".py",
   "mimetype": "text/x-python",
   "name": "python",
   "nbconvert_exporter": "python",
   "pygments_lexer": "ipython3",
   "version": "3.9.13"
  }
 },
 "nbformat": 4,
 "nbformat_minor": 4
}
